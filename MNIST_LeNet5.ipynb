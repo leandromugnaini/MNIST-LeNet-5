{
  "nbformat": 4,
  "nbformat_minor": 0,
  "metadata": {
    "colab": {
      "name": "MNIST - LeNet5.ipynb",
      "provenance": []
    },
    "kernelspec": {
      "name": "python3",
      "display_name": "Python 3"
    }
  },
  "cells": [
    {
      "cell_type": "markdown",
      "metadata": {
        "id": "5OkM1sruoAjh"
      },
      "source": [
        "# Reconhecimento de dígitos utilizando a arquitetura LeNet-5 com o conjunto de dados MNIST\n",
        "\n",
        "Esse projeto possui o objetivo de utilizar a biblioteca Keras para desenvolver um modelo de rede neural convolucional para identificar padrões na base de dados MNIST, que consiste em 60000 imagens de dígitos escritos à mão. \n",
        "\n",
        "Primeiramente serão feitas uma análise do dataset, uma exploração do conjunto de dados e a preparação do modelo, para posterior validação e teste.\n",
        "\n",
        "O modelo convolucional estudado se trata da arquitetura clássica LeNet-5. \n"
      ]
    },
    {
      "cell_type": "markdown",
      "metadata": {
        "id": "8LHi1xoeoOAW"
      },
      "source": [
        "## Dataset\n",
        "\n",
        "Primeiramente, precisamos acessar o dataset que será utilizado para treinar e testar a nossa rede neural convolucional. O conjunto de dados foi retirado do site oficial do criador dessa arquitetura, [Yann LeCun](http://yann.lecun.com/exdb/mnist/). O dataset consiste em:\n",
        "\n",
        "* train-images-idx3-ubyte.gz:  imagens de treino\n",
        "* train-labels-idx1-ubyte.gz:  labels para as imagens de treino \n",
        "* t10k-images-idx3-ubyte.gz:   imagens de teste\n",
        "* t10k-labels-idx1-ubyte.gz:   labels para as imagens de teste\n",
        "\n",
        "Vamos criar uma função para baixar o conjunto de dados:"
      ]
    },
    {
      "cell_type": "code",
      "metadata": {
        "id": "Dy-UUPJUlocs"
      },
      "source": [
        "from requests import get\n",
        "\n",
        "def download_file(url, file_name):\n",
        "    with open(file_name, \"wb\") as file:\n",
        "        response = get(url)\n",
        "        file.write(response.content)"
      ],
      "execution_count": 1,
      "outputs": []
    },
    {
      "cell_type": "code",
      "metadata": {
        "id": "jQzpfqTklqeI"
      },
      "source": [
        "download_file('http://yann.lecun.com/exdb/mnist/train-images-idx3-ubyte.gz', 'train-images-idx3-ubyte.gz')\n",
        "download_file('http://yann.lecun.com/exdb/mnist/train-labels-idx1-ubyte.gz', 'train-labels-idx1-ubyte.gz')\n",
        "download_file('http://yann.lecun.com/exdb/mnist/t10k-images-idx3-ubyte.gz', 't10k-images-idx3-ubyte.gz')\n",
        "download_file('http://yann.lecun.com/exdb/mnist/t10k-labels-idx1-ubyte.gz', 't10k-labels-idx1-ubyte.gz')"
      ],
      "execution_count": 2,
      "outputs": []
    },
    {
      "cell_type": "markdown",
      "metadata": {
        "id": "KX-QisZNuQFv"
      },
      "source": [
        "Agora vamos carregar os dados de teste e treino na memória."
      ]
    },
    {
      "cell_type": "code",
      "metadata": {
        "id": "ue6BfuJql24p"
      },
      "source": [
        "#Bibliotecas auxiliares para leitura \n",
        "import gzip\n",
        "import numpy as np\n",
        "import pandas as pd\n",
        "from time import time\n",
        "\n",
        "from sklearn.model_selection import train_test_split\n",
        "import tensorflow as tf\n",
        "import keras\n",
        "import keras.layers as layers\n",
        "from keras.models import Sequential\n",
        "from keras.preprocessing.image import ImageDataGenerator\n",
        "from keras.utils.np_utils import to_categorical\n",
        "from keras.callbacks import TensorBoard\n",
        "\n",
        "%matplotlib inline\n",
        "import matplotlib.pyplot as plt\n",
        "import seaborn as sns\n",
        "sns.set()"
      ],
      "execution_count": 3,
      "outputs": []
    },
    {
      "cell_type": "code",
      "metadata": {
        "id": "XRxyU6RMl8Ak"
      },
      "source": [
        "def read_gzip(images_path: str, labels_path: str):\n",
        "    #lendo as labels\n",
        "    with gzip.open(labels_path, 'rb') as labels:\n",
        "        labels = np.frombuffer(labels.read(), dtype=np.uint8, offset=8)\n",
        "\n",
        "    #lendo as features\n",
        "    with gzip.open(images_path,'rb') as images:\n",
        "        length = len(labels)\n",
        "        #Primeiramente carregamos as imagens que estão \"esticadas\" em um vetor \n",
        "        #de 784 números (imagens com 28x28 pixels) e as convertemos em 28x28x1\n",
        "        features = np.frombuffer(images.read(), dtype=np.uint8, offset=16) \\\n",
        "                        .reshape(length, 784) \\\n",
        "                        .reshape(length, 28, 28, 1)\n",
        "        \n",
        "    return features, labels"
      ],
      "execution_count": 4,
      "outputs": []
    },
    {
      "cell_type": "code",
      "metadata": {
        "id": "_GUiIZegl-Ta"
      },
      "source": [
        "#train e test serão dicionários que guardarão as features e os labels das imagens\n",
        "train = {}\n",
        "test = {}\n",
        "\n",
        "train['features'], train['labels'] = read_gzip('train-images-idx3-ubyte.gz', 'train-labels-idx1-ubyte.gz')\n",
        "test['features'], test['labels'] = read_gzip('t10k-images-idx3-ubyte.gz', 't10k-labels-idx1-ubyte.gz')"
      ],
      "execution_count": 5,
      "outputs": []
    },
    {
      "cell_type": "markdown",
      "metadata": {
        "id": "7aV4FqgmyAcp"
      },
      "source": [
        "Vamos agora verificar o número de imagens nos training e test sets."
      ]
    },
    {
      "cell_type": "code",
      "metadata": {
        "id": "nvw7qSc8mB9u",
        "outputId": "d2014612-0dcb-4e16-c8af-71b19bfd6984",
        "colab": {
          "base_uri": "https://localhost:8080/"
        }
      },
      "source": [
        "print('# de imagens de treino:', train['features'].shape[0])\n",
        "print('# de imagens de teste:', test['features'].shape[0])"
      ],
      "execution_count": 6,
      "outputs": [
        {
          "output_type": "stream",
          "text": [
            "# de imagens de treino: 60000\n",
            "# de imagens de teste: 10000\n"
          ],
          "name": "stdout"
        }
      ]
    },
    {
      "cell_type": "markdown",
      "metadata": {
        "id": "BbG0C4p4zh5s"
      },
      "source": [
        "## Explorando o conjunto de dados"
      ]
    },
    {
      "cell_type": "markdown",
      "metadata": {
        "id": "UFVKiKYizFsu"
      },
      "source": [
        "#### Agora vamos criar uma função para olhar algumas imagens do dataset."
      ]
    },
    {
      "cell_type": "code",
      "metadata": {
        "id": "C85WWBeAmDX_"
      },
      "source": [
        "def display_image(position):\n",
        "    image = train['features'][position].squeeze()\n",
        "    plt.title('Example %d. Label: %d' % (position, train['labels'][position]))\n",
        "    plt.imshow(image, cmap=plt.cm.gray_r)"
      ],
      "execution_count": 7,
      "outputs": []
    },
    {
      "cell_type": "code",
      "metadata": {
        "id": "JmK3iRGkmFYi",
        "outputId": "e60dc1d0-5678-4bc8-e30c-1ca76ff79e64",
        "colab": {
          "base_uri": "https://localhost:8080/",
          "height": 284
        }
      },
      "source": [
        "display_image(2)"
      ],
      "execution_count": 8,
      "outputs": [
        {
          "output_type": "display_data",
          "data": {
            "image/png": "[encoded data removed]",
            "text/plain": [
              "<Figure size 432x288 with 1 Axes>"
            ]
          },
          "metadata": {
            "tags": []
          }
        }
      ]
    },
    {
      "cell_type": "code",
      "metadata": {
        "id": "73Bh1PRtmHk1",
        "outputId": "8b5c04b0-be2e-4eff-d65c-c80f40f0b1a0",
        "colab": {
          "base_uri": "https://localhost:8080/",
          "height": 284
        }
      },
      "source": [
        "display_image(4)"
      ],
      "execution_count": 9,
      "outputs": [
        {
          "output_type": "display_data",
          "data": {
            "image/png": "[encoded data removed]",
            "text/plain": [
              "<Figure size 432x288 with 1 Axes>"
            ]
          },
          "metadata": {
            "tags": []
          }
        }
      ]
    },
    {
      "cell_type": "markdown",
      "metadata": {
        "id": "B4-7AkB9z29n"
      },
      "source": [
        "#### Verificando se o conjunto de dados está balanceado, ou seja, se existem quantidades parecidas de dados para cada label. "
      ]
    },
    {
      "cell_type": "code",
      "metadata": {
        "id": "cjzypz4hmK-6",
        "outputId": "bf1a41c1-19a6-49c5-cf73-996b253aebde",
        "colab": {
          "base_uri": "https://localhost:8080/",
          "height": 363
        }
      },
      "source": [
        "train_labels_count = np.unique(train['labels'], return_counts=True)\n",
        "dataframe_train_labels = pd.DataFrame({'Label':train_labels_count[0], 'Count':train_labels_count[1]})\n",
        "dataframe_train_labels"
      ],
      "execution_count": 10,
      "outputs": [
        {
          "output_type": "execute_result",
          "data": {
            "text/html": [
              "<div>\n",
              "<style scoped>\n",
              "    .dataframe tbody tr th:only-of-type {\n",
              "        vertical-align: middle;\n",
              "    }\n",
              "\n",
              "    .dataframe tbody tr th {\n",
              "        vertical-align: top;\n",
              "    }\n",
              "\n",
              "    .dataframe thead th {\n",
              "        text-align: right;\n",
              "    }\n",
              "</style>\n",
              "<table border=\"1\" class=\"dataframe\">\n",
              "  <thead>\n",
              "    <tr style=\"text-align: right;\">\n",
              "      <th></th>\n",
              "      <th>Label</th>\n",
              "      <th>Count</th>\n",
              "    </tr>\n",
              "  </thead>\n",
              "  <tbody>\n",
              "    <tr>\n",
              "      <th>0</th>\n",
              "      <td>0</td>\n",
              "      <td>5923</td>\n",
              "    </tr>\n",
              "    <tr>\n",
              "      <th>1</th>\n",
              "      <td>1</td>\n",
              "      <td>6742</td>\n",
              "    </tr>\n",
              "    <tr>\n",
              "      <th>2</th>\n",
              "      <td>2</td>\n",
              "      <td>5958</td>\n",
              "    </tr>\n",
              "    <tr>\n",
              "      <th>3</th>\n",
              "      <td>3</td>\n",
              "      <td>6131</td>\n",
              "    </tr>\n",
              "    <tr>\n",
              "      <th>4</th>\n",
              "      <td>4</td>\n",
              "      <td>5842</td>\n",
              "    </tr>\n",
              "    <tr>\n",
              "      <th>5</th>\n",
              "      <td>5</td>\n",
              "      <td>5421</td>\n",
              "    </tr>\n",
              "    <tr>\n",
              "      <th>6</th>\n",
              "      <td>6</td>\n",
              "      <td>5918</td>\n",
              "    </tr>\n",
              "    <tr>\n",
              "      <th>7</th>\n",
              "      <td>7</td>\n",
              "      <td>6265</td>\n",
              "    </tr>\n",
              "    <tr>\n",
              "      <th>8</th>\n",
              "      <td>8</td>\n",
              "      <td>5851</td>\n",
              "    </tr>\n",
              "    <tr>\n",
              "      <th>9</th>\n",
              "      <td>9</td>\n",
              "      <td>5949</td>\n",
              "    </tr>\n",
              "  </tbody>\n",
              "</table>\n",
              "</div>"
            ],
            "text/plain": [
              "   Label  Count\n",
              "0      0   5923\n",
              "1      1   6742\n",
              "2      2   5958\n",
              "3      3   6131\n",
              "4      4   5842\n",
              "5      5   5421\n",
              "6      6   5918\n",
              "7      7   6265\n",
              "8      8   5851\n",
              "9      9   5949"
            ]
          },
          "metadata": {
            "tags": []
          },
          "execution_count": 10
        }
      ]
    },
    {
      "cell_type": "markdown",
      "metadata": {
        "id": "o1w5rg6s0EMZ"
      },
      "source": [
        "#### Vamos agora dividir o conjunto de dados de treinamento em dados para treinamento e dados para validação. "
      ]
    },
    {
      "cell_type": "markdown",
      "metadata": {
        "id": "knRfEqIO0LzW"
      },
      "source": [
        "O Training set é o conjunto de dados que é utilizado de fato para treinamento, e serve para encontrarmos pesos (idealmente ótimos) utilizando a técnica de back-propagation.\n",
        "\n",
        "Já o Validation set é utilizado para tunar os parâmetros da rede, como número de hidden units, ou determinar um ponto de parada para o algoritmo de back-propagation. Ao \"tunarmos\" os parâmetros da rede utilizando o Validation set, adicionamos um viés a esse conjunto de dados, logo ele não serve para testar a real performance do nosso modelo, assim precisamos do Test set. \n",
        "\n",
        "O ideal é não modificar a rede utilizando como base o Test set, pois como explicado anteriormente, adicionaremos um viés ao conjunto de dados e as métricas de desempenho não representarão o real desempenho do modelo. \n",
        "\n",
        "Dividiremos o Training set anterior então em 80% dos dados para o novo Training set e 20% dos dados para o Validation set. "
      ]
    },
    {
      "cell_type": "code",
      "metadata": {
        "id": "vDDS081pmQI5"
      },
      "source": [
        "#Separando o Training set em Training e Validation set\n",
        "validation = {}\n",
        "train['features'], validation['features'], train['labels'], validation['labels'] = train_test_split(train['features'], train['labels'], test_size=0.2, random_state=0)"
      ],
      "execution_count": 11,
      "outputs": []
    },
    {
      "cell_type": "code",
      "metadata": {
        "id": "DFUuVraxmTsE",
        "outputId": "db831cfb-4719-4ad3-e079-8a172881da1d",
        "colab": {
          "base_uri": "https://localhost:8080/"
        }
      },
      "source": [
        "print('# de imagens de treinamento:', train['features'].shape[0])\n",
        "print('# de imagens de validação:', validation['features'].shape[0])"
      ],
      "execution_count": 12,
      "outputs": [
        {
          "output_type": "stream",
          "text": [
            "# de imagens de treinamento: 48000\n",
            "# de imagens de validação: 12000\n"
          ],
          "name": "stdout"
        }
      ]
    },
    {
      "cell_type": "markdown",
      "metadata": {
        "id": "cIUEzfxD3AqP"
      },
      "source": [
        "## Preparando as features\n",
        "\n",
        "A arquitetura LeNet-5 utiliza como entrada imagens de 32x32 pixels. Como temos imagens com 28x28 pixels, precisamos fazer a técnica *zero padding*, adicionando 2 pixels em cada lado da imagem. "
      ]
    },
    {
      "cell_type": "code",
      "metadata": {
        "id": "Z3MUDwRgmU_c",
        "outputId": "095d666e-88fc-4321-ad41-5c3e61b49e0e",
        "colab": {
          "base_uri": "https://localhost:8080/"
        }
      },
      "source": [
        "#Realizando a técnica de zero padding no conjunto de dados\n",
        "train['features']      = np.pad(train['features'], ((0,0),(2,2),(2,2),(0,0)), 'constant')\n",
        "validation['features'] = np.pad(validation['features'], ((0,0),(2,2),(2,2),(0,0)), 'constant')\n",
        "test['features']       = np.pad(test['features'], ((0,0),(2,2),(2,2),(0,0)), 'constant')\n",
        "    \n",
        "print(\"Updated Image Shape: {}\".format(train['features'][0].shape))"
      ],
      "execution_count": 13,
      "outputs": [
        {
          "output_type": "stream",
          "text": [
            "Updated Image Shape: (32, 32, 1)\n"
          ],
          "name": "stdout"
        }
      ]
    },
    {
      "cell_type": "markdown",
      "metadata": {
        "id": "L70VqYVH30F_"
      },
      "source": [
        "## Implementação da arquitetura LeNet-5\n",
        "\n"
      ]
    },
    {
      "cell_type": "markdown",
      "metadata": {
        "id": "3B8oR8vhFsVR"
      },
      "source": [
        "A arquitetura a ser implementada consiste nos seguintes layers:"
      ]
    },
    {
      "cell_type": "markdown",
      "metadata": {
        "id": "unRtScMYFHfr"
      },
      "source": [
        "![lenet.png](https://raw.githubusercontent.com/MostafaGazar/mobile-ml/master/files/lenet.png)\n",
        ">>> LeNet-5 Architecture. Credit: [LeCun et al., 1998](http://yann.lecun.com/exdb/publis/psgz/lecun-98.ps.gz)"
      ]
    },
    {
      "cell_type": "markdown",
      "metadata": {
        "id": "OSRtZbVeFnSB"
      },
      "source": [
        "#### Architecture\n",
        "* **Convolutional Layer #1** resulta em uma saída com dimensões 28x28x6.\n",
        "    * **Ativação** utilizaremos uma relu\n",
        "\n",
        "* **Pooling Layer #1** resulta em uma saída com dimensões 14x14x6.\n",
        "\n",
        "* **Convolutional Layer #2** resulta em uma saída com dimensões 10x10x16.\n",
        "    * **Ativação** utilizaremos uma relu\n",
        "\n",
        "* **Pooling Layer #2** resulta em uma saída com dimensões 5x5x16.\n",
        "    * **Flatten** \"planariza\" a dimensão da saída\n",
        "\n",
        "* **Fully Connected Layer #1** resulta em uma saída com dimensões 120x1.\n",
        "    * **Ativação** utilizaremos uma relu\n",
        "\n",
        "* **Fully Connected Layer #2** resulta em uma saída com dimensões 84x1.\n",
        "    * **Ativação** utilizaremos uma relu\n",
        "\n",
        "* **Fully Connected (Logits) #3** resulta em uma saída de dimensão 10, sendo as probabilidades das imagens serem números de 0 a 9. "
      ]
    },
    {
      "cell_type": "code",
      "metadata": {
        "id": "rm2XbRGimXlH"
      },
      "source": [
        "#Definindo a arquitetura do modelo\n",
        "model = keras.Sequential()\n",
        "\n",
        "model.add(layers.Conv2D(filters=6, kernel_size=(3, 3), activation='relu', input_shape=(32,32,1)))\n",
        "model.add(layers.AveragePooling2D())\n",
        "\n",
        "model.add(layers.Conv2D(filters=16, kernel_size=(3, 3), activation='relu'))\n",
        "model.add(layers.AveragePooling2D())\n",
        "\n",
        "model.add(layers.Flatten())\n",
        "\n",
        "model.add(layers.Dense(units=120, activation='relu'))\n",
        "\n",
        "model.add(layers.Dense(units=84, activation='relu'))\n",
        "\n",
        "model.add(layers.Dense(units=10, activation = 'softmax'))"
      ],
      "execution_count": 14,
      "outputs": []
    },
    {
      "cell_type": "code",
      "metadata": {
        "id": "uYitgsUPmZx5",
        "outputId": "97fc6e4f-93fb-45d6-f823-6fa9e55aebe1",
        "colab": {
          "base_uri": "https://localhost:8080/"
        }
      },
      "source": [
        "model.summary()"
      ],
      "execution_count": 15,
      "outputs": [
        {
          "output_type": "stream",
          "text": [
            "Model: \"sequential\"\n",
            "_________________________________________________________________\n",
            "Layer (type)                 Output Shape              Param #   \n",
            "=================================================================\n",
            "conv2d (Conv2D)              (None, 30, 30, 6)         60        \n",
            "_________________________________________________________________\n",
            "average_pooling2d (AveragePo (None, 15, 15, 6)         0         \n",
            "_________________________________________________________________\n",
            "conv2d_1 (Conv2D)            (None, 13, 13, 16)        880       \n",
            "_________________________________________________________________\n",
            "average_pooling2d_1 (Average (None, 6, 6, 16)          0         \n",
            "_________________________________________________________________\n",
            "flatten (Flatten)            (None, 576)               0         \n",
            "_________________________________________________________________\n",
            "dense (Dense)                (None, 120)               69240     \n",
            "_________________________________________________________________\n",
            "dense_1 (Dense)              (None, 84)                10164     \n",
            "_________________________________________________________________\n",
            "dense_2 (Dense)              (None, 10)                850       \n",
            "=================================================================\n",
            "Total params: 81,194\n",
            "Trainable params: 81,194\n",
            "Non-trainable params: 0\n",
            "_________________________________________________________________\n"
          ],
          "name": "stdout"
        }
      ]
    },
    {
      "cell_type": "code",
      "metadata": {
        "id": "tHjwtVbzmbUj"
      },
      "source": [
        "#Definindo qual será a função de loss, o otimizador e a métrica a ser otimizada\n",
        "model.compile(loss=keras.losses.categorical_crossentropy, optimizer=keras.optimizers.Adam(), metrics=['accuracy'])"
      ],
      "execution_count": 16,
      "outputs": []
    },
    {
      "cell_type": "code",
      "metadata": {
        "id": "V9T5G2x_mhDZ"
      },
      "source": [
        "#Definindo o número de épocas que o modelo vai executar e o tamanho do lote \n",
        "#dos dados\n",
        "EPOCHS = 10\n",
        "BATCH_SIZE = 128"
      ],
      "execution_count": 17,
      "outputs": []
    },
    {
      "cell_type": "code",
      "metadata": {
        "id": "ffDRjuSgmdQJ"
      },
      "source": [
        "X_train, y_train = train['features'], to_categorical(train['labels'])\n",
        "X_validation, y_validation = validation['features'], to_categorical(validation['labels'])\n",
        "X_test, y_test = test['features'], to_categorical(test['labels'])\n",
        "\n",
        "train_generator = ImageDataGenerator().flow(X_train, y_train, batch_size=BATCH_SIZE)\n",
        "validation_generator = ImageDataGenerator().flow(X_validation, y_validation, batch_size=BATCH_SIZE)"
      ],
      "execution_count": 22,
      "outputs": []
    },
    {
      "cell_type": "code",
      "metadata": {
        "id": "TCJEv1DFmfL-",
        "outputId": "014ba54e-3b48-4350-f2b0-5ba2a3c7ef21",
        "colab": {
          "base_uri": "https://localhost:8080/"
        }
      },
      "source": [
        "\n",
        "print('# de imagens de treinamento:', train['features'].shape[0])\n",
        "print('# de imagens de validação:', validation['features'].shape[0])\n",
        "\n",
        "steps_per_epoch = X_train.shape[0]//BATCH_SIZE\n",
        "validation_steps = X_validation.shape[0]//BATCH_SIZE\n",
        "\n",
        "tensorboard = TensorBoard(log_dir=\"logs/{}\".format(time()))\n",
        "model.fit_generator(train_generator, steps_per_epoch=steps_per_epoch, epochs=EPOCHS, \n",
        "                    validation_data=validation_generator, validation_steps=validation_steps, \n",
        "                    shuffle=True, callbacks=[tensorboard])"
      ],
      "execution_count": 20,
      "outputs": [
        {
          "output_type": "stream",
          "text": [
            "# de imagens de treinamento: 48000\n",
            "# de imagens de validação: 12000\n",
            "Epoch 1/10\n",
            "375/375 [==============================] - 23s 61ms/step - loss: 0.0112 - accuracy: 0.9964 - val_loss: 0.0585 - val_accuracy: 0.9856\n",
            "Epoch 2/10\n",
            "375/375 [==============================] - 24s 63ms/step - loss: 0.0109 - accuracy: 0.9965 - val_loss: 0.0565 - val_accuracy: 0.9868\n",
            "Epoch 3/10\n",
            "375/375 [==============================] - 23s 61ms/step - loss: 0.0080 - accuracy: 0.9973 - val_loss: 0.0554 - val_accuracy: 0.9881\n",
            "Epoch 4/10\n",
            "375/375 [==============================] - 23s 61ms/step - loss: 0.0106 - accuracy: 0.9964 - val_loss: 0.0555 - val_accuracy: 0.9878\n",
            "Epoch 5/10\n",
            "375/375 [==============================] - 23s 61ms/step - loss: 0.0090 - accuracy: 0.9972 - val_loss: 0.0522 - val_accuracy: 0.9862\n",
            "Epoch 6/10\n",
            "375/375 [==============================] - 23s 61ms/step - loss: 0.0078 - accuracy: 0.9977 - val_loss: 0.0534 - val_accuracy: 0.9853\n",
            "Epoch 7/10\n",
            "375/375 [==============================] - 23s 61ms/step - loss: 0.0047 - accuracy: 0.9985 - val_loss: 0.0543 - val_accuracy: 0.9879\n",
            "Epoch 8/10\n",
            "375/375 [==============================] - 23s 61ms/step - loss: 0.0093 - accuracy: 0.9973 - val_loss: 0.0643 - val_accuracy: 0.9860\n",
            "Epoch 9/10\n",
            "375/375 [==============================] - 23s 61ms/step - loss: 0.0074 - accuracy: 0.9975 - val_loss: 0.0596 - val_accuracy: 0.9873\n",
            "Epoch 10/10\n",
            "375/375 [==============================] - 23s 61ms/step - loss: 0.0061 - accuracy: 0.9982 - val_loss: 0.0703 - val_accuracy: 0.9863\n"
          ],
          "name": "stdout"
        },
        {
          "output_type": "execute_result",
          "data": {
            "text/plain": [
              "<tensorflow.python.keras.callbacks.History at 0x7f6b4240aba8>"
            ]
          },
          "metadata": {
            "tags": []
          },
          "execution_count": 20
        }
      ]
    },
    {
      "cell_type": "markdown",
      "metadata": {
        "id": "jdxDCV39dJWP"
      },
      "source": [
        "Como pode ser conferido, a rede obteve uma acurácia de 99.82% na validação após 10 épocas de treinamento. É um resultado bem expressivo. Agora vamos avaliar o modelo no Test set. "
      ]
    },
    {
      "cell_type": "code",
      "metadata": {
        "id": "4mtwocHjd4p_",
        "outputId": "255798fd-0ad8-4381-d451-e437422176c5",
        "colab": {
          "base_uri": "https://localhost:8080/"
        }
      },
      "source": [
        "_, accuracy = model.evaluate(X_test, y_test)"
      ],
      "execution_count": 25,
      "outputs": [
        {
          "output_type": "stream",
          "text": [
            "313/313 [==============================] - 3s 9ms/step - loss: 0.0682 - accuracy: 0.9860\n"
          ],
          "name": "stdout"
        }
      ]
    },
    {
      "cell_type": "markdown",
      "metadata": {
        "id": "v_5ObUNafy_8"
      },
      "source": [
        "No Test set a nossa acurácia foi de 98.6%, também representando um ótimo desempenho. "
      ]
    },
    {
      "cell_type": "code",
      "metadata": {
        "id": "_-m1Ij2wi2iV",
        "outputId": "e6d5cd6e-2f9f-43b9-a705-0009d5d8fdbc",
        "colab": {
          "base_uri": "https://localhost:8080/"
        }
      },
      "source": [
        "import pandas as pd\n",
        "\n",
        "#Salvando as saídas da rede para o Test set\n",
        "Y_pred = model.predict(X_test)\n",
        "\n",
        "#Transformando o array em um array unidimensional\n",
        "Y_pred_classes = np.argmax(Y_pred, axis=1)\n",
        "Y_true = np.argmax(y_test, axis=1)\n",
        "\n",
        "\n",
        "y_actu = pd.Series(Y_true, name='Actual')\n",
        "y_pred = pd.Series(Y_pred_classes, name='Predicted')\n",
        "df_confusion = pd.crosstab(y_actu, y_pred)\n",
        "\n",
        "print(df_confusion)"
      ],
      "execution_count": 58,
      "outputs": [
        {
          "output_type": "stream",
          "text": [
            "Predicted    0     1     2     3    4    5    6     7    8     9\n",
            "Actual                                                          \n",
            "0          966     0     1     0    2    0    4     3    0     4\n",
            "1            0  1129     2     3    0    0    0     1    0     0\n",
            "2            0     0  1017     2    0    0    0    12    0     1\n",
            "3            0     0     1  1003    0    1    0     4    1     0\n",
            "4            0     0     0     0  971    0    0     0    0    11\n",
            "5            2     0     0    14    0  863    4     1    1     7\n",
            "6            3     2     0     0    1    1  950     0    1     0\n",
            "7            0     1     2     0    0    0    0  1023    0     2\n",
            "8            1     1     5     6    1    0    3     8  938    11\n",
            "9            0     1     0     1    4    0    0     2    1  1000\n"
          ],
          "name": "stdout"
        }
      ]
    },
    {
      "cell_type": "markdown",
      "metadata": {
        "id": "Nras8qhwl1-P"
      },
      "source": [
        "Como pode ser conferido pela Confusion Matrix acima, os erros comuns cometidos pela rede são:\n",
        "\n",
        "* Classificar 3 quando na realidade o número é 5 (ocorrência: 14)\n",
        "* Classificar 7 quando na realidade o número é 2 (ocorrência: 12)\n",
        "* Classificar 9 quando na realidade o número é 8 (ocorrência: 11)\n",
        "* Classificar 9 quando na realidade o número é 4 (ocorrência: 11)\n",
        "\n",
        "Além desses erros não foram identificandas fontes de erro muito relevantes, e no geral o modelo desempenhou um bom papel na classificação dos dígitos."
      ]
    }
  ]
}